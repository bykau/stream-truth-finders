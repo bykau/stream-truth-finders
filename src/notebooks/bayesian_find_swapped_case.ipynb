{
 "cells": [
  {
   "cell_type": "markdown",
   "metadata": {},
   "source": [
    "<h1>Find a swapped case(Bayesian)</h1>"
   ]
  },
  {
   "cell_type": "markdown",
   "metadata": {},
   "source": [
    "<pre>Parameters for experiment:\n",
    "10 Objects\n",
    "5 Sources, given that each source presents 7 of the 10 values for objects.\n",
    "Data are presented by the matrix: D[Object, Source]</pre>\n",
    "\n",
    "<b>Steps:</b>\n",
    "<ol>\n",
    "    <li>Run the algorithm on initial data set.</li>\n",
    "    <li>Make all possible single swaps.</li>\n",
    "    <li>Calculate dist_metrics for all possible cases.</li>\n",
    "    <li>Select the data set with maximum dist_metric.</li>\n",
    "    <li>Compare the result with priori information. </li>\n",
    "</ol>"
   ]
  },
  {
   "cell_type": "markdown",
   "metadata": {
    "collapsed": true
   },
   "source": [
    "<h2>1. All sources give true values</h2>"
   ]
  },
  {
   "cell_type": "code",
   "execution_count": 23,
   "metadata": {
    "collapsed": false
   },
   "outputs": [
    {
     "name": "stdout",
     "output_type": "stream",
     "text": [
      "Python version 2.7.10 (default, Oct 23 2015, 18:05:06) \n",
      "[GCC 4.2.1 Compatible Apple LLVM 7.0.0 (clang-700.0.59.5)]\n",
      "Pandas version 0.17.1\n"
     ]
    }
   ],
   "source": [
    "import pandas as pd\n",
    "import sys\n",
    "print 'Python version ' + sys.version\n",
    "print 'Pandas version ' + pd.__version__"
   ]
  },
  {
   "cell_type": "code",
   "execution_count": 18,
   "metadata": {
    "collapsed": false
   },
   "outputs": [
    {
     "name": "stdout",
     "output_type": "stream",
     "text": [
      "Initial data set:\n"
     ]
    },
    {
     "data": {
      "text/html": [
       "<div>\n",
       "<table border=\"1\" class=\"dataframe\">\n",
       "  <thead>\n",
       "    <tr style=\"text-align: right;\">\n",
       "      <th></th>\n",
       "      <th>S1</th>\n",
       "      <th>S2</th>\n",
       "      <th>S3</th>\n",
       "      <th>S4</th>\n",
       "      <th>S5</th>\n",
       "    </tr>\n",
       "  </thead>\n",
       "  <tbody>\n",
       "    <tr>\n",
       "      <th>O1</th>\n",
       "      <td>6</td>\n",
       "      <td>6</td>\n",
       "      <td>NaN</td>\n",
       "      <td>6</td>\n",
       "      <td>NaN</td>\n",
       "    </tr>\n",
       "    <tr>\n",
       "      <th>O2</th>\n",
       "      <td>8</td>\n",
       "      <td>NaN</td>\n",
       "      <td>8</td>\n",
       "      <td>NaN</td>\n",
       "      <td>8</td>\n",
       "    </tr>\n",
       "    <tr>\n",
       "      <th>O3</th>\n",
       "      <td>NaN</td>\n",
       "      <td>9</td>\n",
       "      <td>9</td>\n",
       "      <td>9</td>\n",
       "      <td>9</td>\n",
       "    </tr>\n",
       "    <tr>\n",
       "      <th>O4</th>\n",
       "      <td>15</td>\n",
       "      <td>15</td>\n",
       "      <td>15</td>\n",
       "      <td>15</td>\n",
       "      <td>15</td>\n",
       "    </tr>\n",
       "    <tr>\n",
       "      <th>O5</th>\n",
       "      <td>NaN</td>\n",
       "      <td>16</td>\n",
       "      <td>NaN</td>\n",
       "      <td>NaN</td>\n",
       "      <td>16</td>\n",
       "    </tr>\n",
       "    <tr>\n",
       "      <th>O6</th>\n",
       "      <td>NaN</td>\n",
       "      <td>10</td>\n",
       "      <td>10</td>\n",
       "      <td>10</td>\n",
       "      <td>10</td>\n",
       "    </tr>\n",
       "    <tr>\n",
       "      <th>O7</th>\n",
       "      <td>11</td>\n",
       "      <td>11</td>\n",
       "      <td>11</td>\n",
       "      <td>11</td>\n",
       "      <td>11</td>\n",
       "    </tr>\n",
       "    <tr>\n",
       "      <th>O8</th>\n",
       "      <td>7</td>\n",
       "      <td>NaN</td>\n",
       "      <td>7</td>\n",
       "      <td>7</td>\n",
       "      <td>NaN</td>\n",
       "    </tr>\n",
       "    <tr>\n",
       "      <th>O9</th>\n",
       "      <td>18</td>\n",
       "      <td>NaN</td>\n",
       "      <td>NaN</td>\n",
       "      <td>18</td>\n",
       "      <td>NaN</td>\n",
       "    </tr>\n",
       "    <tr>\n",
       "      <th>O10</th>\n",
       "      <td>20</td>\n",
       "      <td>20</td>\n",
       "      <td>20</td>\n",
       "      <td>NaN</td>\n",
       "      <td>20</td>\n",
       "    </tr>\n",
       "  </tbody>\n",
       "</table>\n",
       "</div>"
      ],
      "text/plain": [
       "     S1  S2  S3  S4  S5\n",
       "O1    6   6 NaN   6 NaN\n",
       "O2    8 NaN   8 NaN   8\n",
       "O3  NaN   9   9   9   9\n",
       "O4   15  15  15  15  15\n",
       "O5  NaN  16 NaN NaN  16\n",
       "O6  NaN  10  10  10  10\n",
       "O7   11  11  11  11  11\n",
       "O8    7 NaN   7   7 NaN\n",
       "O9   18 NaN NaN  18 NaN\n",
       "O10  20  20  20 NaN  20"
      ]
     },
     "execution_count": 18,
     "metadata": {},
     "output_type": "execute_result"
    }
   ],
   "source": [
    "obj_name = ['O1', 'O2', 'O3', 'O4', 'O5', 'O6', 'O7', 'O8', 'O9', 'O10']\n",
    "data_set = {\n",
    "    'S1': [6, 8, None, 15, None, None, 11, 7, 18, 20],\n",
    "    'S2': [6, None, 9, 15, 16, 10, 11, None, None, 20],\n",
    "    'S3': [None, 8, 9, 15, None, 10, 11, 7, None, 20],\n",
    "    'S4': [6, None, 9, 15, None, 10, 11, 7, 18, None],\n",
    "    'S5': [None, 8, 9, 15, 16, 10, 11, None, None, 20]\n",
    "}\n",
    "print \"Initial data set:\"\n",
    "pd.DataFrame(data_set, index=obj_name)"
   ]
  },
  {
   "cell_type": "markdown",
   "metadata": {},
   "source": [
    "<b>Results:</b>\n",
    "<pre>\n",
    "Number of iterations: 3\n",
    "max_dist_metr: 10.0/10.0\n",
    "Output: True data set\n",
    "</pre>"
   ]
  },
  {
   "cell_type": "markdown",
   "metadata": {},
   "source": [
    "<h2>2. Sources give partially wrong values</h2>"
   ]
  },
  {
   "cell_type": "markdown",
   "metadata": {},
   "source": [
    "<b>Assumptions for the data set:</b>\n",
    "<ol>\n",
    "    <li>Sources give true value with p(true val|S)=0.7</li>\n",
    "    <li>Ground Truth values  are a set.</li>\n",
    "    <li>All wrong values are different</li>\n",
    "    <li>Among wrong values only one can be replaced according to Ground Truth.</li>\n",
    "</ol>"
   ]
  },
  {
   "cell_type": "code",
   "execution_count": 24,
   "metadata": {
    "collapsed": false
   },
   "outputs": [
    {
     "name": "stdout",
     "output_type": "stream",
     "text": [
      "Initial data set 2:\n"
     ]
    },
    {
     "data": {
      "text/html": [
       "<div>\n",
       "<table border=\"1\" class=\"dataframe\">\n",
       "  <thead>\n",
       "    <tr style=\"text-align: right;\">\n",
       "      <th></th>\n",
       "      <th>GT</th>\n",
       "      <th>S1</th>\n",
       "      <th>S2</th>\n",
       "      <th>S3</th>\n",
       "      <th>S4</th>\n",
       "      <th>S5</th>\n",
       "    </tr>\n",
       "  </thead>\n",
       "  <tbody>\n",
       "    <tr>\n",
       "      <th>O1</th>\n",
       "      <td>6</td>\n",
       "      <td>6</td>\n",
       "      <td>6</td>\n",
       "      <td>NaN</td>\n",
       "      <td>13</td>\n",
       "      <td>NaN</td>\n",
       "    </tr>\n",
       "    <tr>\n",
       "      <th>O2</th>\n",
       "      <td>8</td>\n",
       "      <td>19</td>\n",
       "      <td>NaN</td>\n",
       "      <td>8</td>\n",
       "      <td>NaN</td>\n",
       "      <td>8</td>\n",
       "    </tr>\n",
       "    <tr>\n",
       "      <th>O3</th>\n",
       "      <td>9</td>\n",
       "      <td>NaN</td>\n",
       "      <td>9</td>\n",
       "      <td>23</td>\n",
       "      <td>9</td>\n",
       "      <td>9</td>\n",
       "    </tr>\n",
       "    <tr>\n",
       "      <th>O4</th>\n",
       "      <td>15</td>\n",
       "      <td>15</td>\n",
       "      <td>15</td>\n",
       "      <td>15</td>\n",
       "      <td>15</td>\n",
       "      <td>15</td>\n",
       "    </tr>\n",
       "    <tr>\n",
       "      <th>O5</th>\n",
       "      <td>16</td>\n",
       "      <td>NaN</td>\n",
       "      <td>16</td>\n",
       "      <td>NaN</td>\n",
       "      <td>NaN</td>\n",
       "      <td>16</td>\n",
       "    </tr>\n",
       "    <tr>\n",
       "      <th>O6</th>\n",
       "      <td>10</td>\n",
       "      <td>16</td>\n",
       "      <td>22</td>\n",
       "      <td>10</td>\n",
       "      <td>10</td>\n",
       "      <td>28</td>\n",
       "    </tr>\n",
       "    <tr>\n",
       "      <th>O7</th>\n",
       "      <td>11</td>\n",
       "      <td>11</td>\n",
       "      <td>21</td>\n",
       "      <td>11</td>\n",
       "      <td>11</td>\n",
       "      <td>12</td>\n",
       "    </tr>\n",
       "    <tr>\n",
       "      <th>O8</th>\n",
       "      <td>7</td>\n",
       "      <td>5</td>\n",
       "      <td>NaN</td>\n",
       "      <td>7</td>\n",
       "      <td>7</td>\n",
       "      <td>NaN</td>\n",
       "    </tr>\n",
       "    <tr>\n",
       "      <th>O9</th>\n",
       "      <td>18</td>\n",
       "      <td>18</td>\n",
       "      <td>NaN</td>\n",
       "      <td>NaN</td>\n",
       "      <td>18</td>\n",
       "      <td>NaN</td>\n",
       "    </tr>\n",
       "    <tr>\n",
       "      <th>O10</th>\n",
       "      <td>20</td>\n",
       "      <td>20</td>\n",
       "      <td>20</td>\n",
       "      <td>24</td>\n",
       "      <td>NaN</td>\n",
       "      <td>20</td>\n",
       "    </tr>\n",
       "  </tbody>\n",
       "</table>\n",
       "</div>"
      ],
      "text/plain": [
       "     GT  S1  S2  S3  S4  S5\n",
       "O1    6   6   6 NaN  13 NaN\n",
       "O2    8  19 NaN   8 NaN   8\n",
       "O3    9 NaN   9  23   9   9\n",
       "O4   15  15  15  15  15  15\n",
       "O5   16 NaN  16 NaN NaN  16\n",
       "O6   10  16  22  10  10  28\n",
       "O7   11  11  21  11  11  12\n",
       "O8    7   5 NaN   7   7 NaN\n",
       "O9   18  18 NaN NaN  18 NaN\n",
       "O10  20  20  20  24 NaN  20"
      ]
     },
     "execution_count": 24,
     "metadata": {},
     "output_type": "execute_result"
    }
   ],
   "source": [
    "data_set2 = {\n",
    "    'S1': [6, 19, None, 15, None, 16, 11, 5, 18, 20],\n",
    "    'S2': [6, None, 9, 15, 16, 22, 21, None, None, 20],\n",
    "    'S3': [None, 8, 23, 15, None, 10, 11, 7, None, 24],\n",
    "    'S4': [13, None, 9, 15, None, 10, 11, 7, 18, None],\n",
    "    'S5': [None, 8, 9, 15, 16, 28, 12, None, None, 20],\n",
    "    'GT': [6, 8, 9, 15, 16, 10, 11, 7, 18, 20]\n",
    "}\n",
    "print \"Initial data set 2:\"\n",
    "pd.DataFrame(data_set2, index=obj_name)"
   ]
  },
  {
   "cell_type": "markdown",
   "metadata": {},
   "source": [
    "<b>Expectations:</b>\n",
    "<pre>\n",
    "The D[O5,S1]=None and D[O6, S1]=16 elements will be swapped.\n",
    "</pre>\n",
    "\n",
    "<b>Results:</b>\n",
    "<pre>\n",
    "The D[O1,S4]=13 and D[O10, S4]=None elements were swapped.\n",
    "Resulting dist metric = 8.817/10.0\n",
    "Dist metric of the initial data_set2 = 8.268/10.0 (i.e without replacement of elements)\n",
    "</pre>"
   ]
  },
  {
   "cell_type": "markdown",
   "metadata": {},
   "source": [
    "<h2>3. Multiple replacements of items</h2>"
   ]
  },
  {
   "cell_type": "markdown",
   "metadata": {},
   "source": [
    "<pre>\n",
    "1. Run algorithm- find max_dist_metric.\n",
    "2. Memorize max_dist_metric and genereted data set as data_new.\n",
    "3. Rerun algorithm with initial data = data_new. \n",
    "    P. S. Thus we increase number of swapped elements.\n",
    "4. Get new_max_dist_metric and new data set.\n",
    "5. Repeat the step 1 until new_max_dist_metric <= max_dist_metric_prev\n",
    "</pre>"
   ]
  },
  {
   "cell_type": "markdown",
   "metadata": {},
   "source": [
    "<b>Results</b>\n",
    "<pre>\n",
    "This experiment was ran with data_set2(from case 2)\n",
    "Round 1:\n",
    "    The D[O1,S4]=13 and D[O10, S4]=None elements were swapped.\n",
    "    Resulting dist metric = 8.817/10.0\n",
    "Round 2:\n",
    "    The D[O5,S1]=None and D[O6, S1]=16 elements were swapped.\n",
    "    Resulting dist metric = 9.110/10.0\n",
    "</pre>"
   ]
  },
  {
   "cell_type": "code",
   "execution_count": null,
   "metadata": {
    "collapsed": true
   },
   "outputs": [],
   "source": []
  }
 ],
 "metadata": {
  "kernelspec": {
   "display_name": "Python 2",
   "language": "python",
   "name": "python2"
  },
  "language_info": {
   "codemirror_mode": {
    "name": "ipython",
    "version": 2
   },
   "file_extension": ".py",
   "mimetype": "text/x-python",
   "name": "python",
   "nbconvert_exporter": "python",
   "pygments_lexer": "ipython2",
   "version": "2.7.10"
  }
 },
 "nbformat": 4,
 "nbformat_minor": 0
}
